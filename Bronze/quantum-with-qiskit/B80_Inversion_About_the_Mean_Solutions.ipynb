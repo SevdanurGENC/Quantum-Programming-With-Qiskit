{
 "cells": [
  {
   "cell_type": "markdown",
   "metadata": {},
   "source": [
    "<a href=\"https://qworld.net\" target=\"_blank\" align=\"left\"><img src=\"../qworld/images/header.jpg\"  align=\"left\"></a>\n",
    "$ \\newcommand{\\bra}[1]{\\langle #1|} $\n",
    "$ \\newcommand{\\ket}[1]{|#1\\rangle} $\n",
    "$ \\newcommand{\\braket}[2]{\\langle #1|#2\\rangle} $\n",
    "$ \\newcommand{\\dot}[2]{ #1 \\cdot #2} $\n",
    "$ \\newcommand{\\biginner}[2]{\\left\\langle #1,#2\\right\\rangle} $\n",
    "$ \\newcommand{\\mymatrix}[2]{\\left( \\begin{array}{#1} #2\\end{array} \\right)} $\n",
    "$ \\newcommand{\\myvector}[1]{\\mymatrix{c}{#1}} $\n",
    "$ \\newcommand{\\myrvector}[1]{\\mymatrix{r}{#1}} $\n",
    "$ \\newcommand{\\mypar}[1]{\\left( #1 \\right)} $\n",
    "$ \\newcommand{\\mybigpar}[1]{ \\Big( #1 \\Big)} $\n",
    "$ \\newcommand{\\sqrttwo}{\\frac{1}{\\sqrt{2}}} $\n",
    "$ \\newcommand{\\dsqrttwo}{\\dfrac{1}{\\sqrt{2}}} $\n",
    "$ \\newcommand{\\onehalf}{\\frac{1}{2}} $\n",
    "$ \\newcommand{\\donehalf}{\\dfrac{1}{2}} $\n",
    "$ \\newcommand{\\hadamard}{ \\mymatrix{rr}{ \\sqrttwo & \\sqrttwo \\\\ \\sqrttwo & -\\sqrttwo }} $\n",
    "$ \\newcommand{\\vzero}{\\myvector{1\\\\0}} $\n",
    "$ \\newcommand{\\vone}{\\myvector{0\\\\1}} $\n",
    "$ \\newcommand{\\stateplus}{\\myvector{ \\sqrttwo \\\\  \\sqrttwo } } $\n",
    "$ \\newcommand{\\stateminus}{ \\myrvector{ \\sqrttwo \\\\ -\\sqrttwo } } $\n",
    "$ \\newcommand{\\myarray}[2]{ \\begin{array}{#1}#2\\end{array}} $\n",
    "$ \\newcommand{\\X}{ \\mymatrix{cc}{0 & 1 \\\\ 1 & 0}  } $\n",
    "$ \\newcommand{\\I}{ \\mymatrix{rr}{1 & 0 \\\\ 0 & 1}  } $\n",
    "$ \\newcommand{\\Z}{ \\mymatrix{rr}{1 & 0 \\\\ 0 & -1}  } $\n",
    "$ \\newcommand{\\Htwo}{ \\mymatrix{rrrr}{ \\frac{1}{2} & \\frac{1}{2} & \\frac{1}{2} & \\frac{1}{2} \\\\ \\frac{1}{2} & -\\frac{1}{2} & \\frac{1}{2} & -\\frac{1}{2} \\\\ \\frac{1}{2} & \\frac{1}{2} & -\\frac{1}{2} & -\\frac{1}{2} \\\\ \\frac{1}{2} & -\\frac{1}{2} & -\\frac{1}{2} & \\frac{1}{2} } } $\n",
    "$ \\newcommand{\\CNOT}{ \\mymatrix{cccc}{1 & 0 & 0 & 0 \\\\ 0 & 1 & 0 & 0 \\\\ 0 & 0 & 0 & 1 \\\\ 0 & 0 & 1 & 0} } $\n",
    "$ \\newcommand{\\norm}[1]{ \\left\\lVert #1 \\right\\rVert } $\n",
    "$ \\newcommand{\\pstate}[1]{ \\lceil \\mspace{-1mu} #1 \\mspace{-1.5mu} \\rfloor } $\n",
    "$ \\newcommand{\\greenbit}[1] {\\mathbf{{\\color{green}#1}}} $\n",
    "$ \\newcommand{\\bluebit}[1] {\\mathbf{{\\color{blue}#1}}} $\n",
    "$ \\newcommand{\\redbit}[1] {\\mathbf{{\\color{red}#1}}} $\n",
    "$ \\newcommand{\\brownbit}[1] {\\mathbf{{\\color{brown}#1}}} $\n",
    "$ \\newcommand{\\blackbit}[1] {\\mathbf{{\\color{black}#1}}} $"
   ]
  },
  {
   "cell_type": "markdown",
   "metadata": {},
   "source": [
    "<h2> <font color=\"blue\"> Solutions for </font> Inversion About the Mean</h2>"
   ]
  },
  {
   "cell_type": "markdown",
   "metadata": {},
   "source": [
    "<a id=\"task1\"></a>\n",
    "<h3>Task 1</h3>\n",
    "\n",
    "We play this game for $ N = 8 $.\n",
    "\n",
    "Suppose that only the 4th element is marked.\n",
    "\n",
    "We can visualize the values of elements in the list in the beginning as follows."
   ]
  },
  {
   "cell_type": "code",
   "execution_count": null,
   "metadata": {},
   "outputs": [],
   "source": [
    "from matplotlib.pyplot import bar\n",
    "\n",
    "labels = []\n",
    "L = []\n",
    "for i in range(8):\n",
    "    labels = labels + [i+1]\n",
    "    L  = L + [1]\n",
    "\n",
    "# visualize the values of elements in the list \n",
    "bar(labels,L)"
   ]
  },
  {
   "cell_type": "markdown",
   "metadata": {},
   "source": [
    "<h3>Solution</h3>"
   ]
  },
  {
   "cell_type": "markdown",
   "metadata": {},
   "source": [
    "Iterate the game for one step and visualize the values of elements in the list after each phase."
   ]
  },
  {
   "cell_type": "markdown",
   "metadata": {},
   "source": [
    "1st step - query phase:"
   ]
  },
  {
   "cell_type": "code",
   "execution_count": null,
   "metadata": {},
   "outputs": [],
   "source": [
    "# \n",
    "# 1st step - query\n",
    "#\n",
    "\n",
    "# flip the sign of the marked element\n",
    "L[3] = -1 * L[3]\n",
    "\n",
    "# visualize the values of elements in the list \n",
    "bar(labels,L)"
   ]
  },
  {
   "cell_type": "markdown",
   "metadata": {},
   "source": [
    "1st step - inversion phase:"
   ]
  },
  {
   "cell_type": "code",
   "execution_count": null,
   "metadata": {},
   "outputs": [],
   "source": [
    "#\n",
    "# 1st step - inversion\n",
    "#\n",
    "\n",
    "# summation of all values\n",
    "sum = 0\n",
    "for i in range(len(L)):\n",
    "    sum += L[i]\n",
    "\n",
    "# mean of all values\n",
    "mean = sum / len(L)\n",
    "\n",
    "# reflection over the mean\n",
    "for i in range(len(L)):\n",
    "    value = L[i]\n",
    "    new_value = mean - (L[i]-mean)\n",
    "    L[i] = new_value\n",
    "\n",
    "# visualize the values of elements in the list \n",
    "bar(labels,L)"
   ]
  },
  {
   "cell_type": "markdown",
   "metadata": {},
   "source": [
    "Iterate the game for one more step and visualize the values of elements in the list after each phase."
   ]
  },
  {
   "cell_type": "markdown",
   "metadata": {},
   "source": [
    "2nd step - query phase:"
   ]
  },
  {
   "cell_type": "code",
   "execution_count": null,
   "metadata": {},
   "outputs": [],
   "source": [
    "# \n",
    "# 2nd step - query\n",
    "#\n",
    "\n",
    "# flip the sign of the marked element\n",
    "L[3] = -1 * L[3]\n",
    "\n",
    "# visualize the values of elements in the list \n",
    "bar(labels,L)"
   ]
  },
  {
   "cell_type": "markdown",
   "metadata": {},
   "source": [
    "2nd step - inversion phase:"
   ]
  },
  {
   "cell_type": "code",
   "execution_count": null,
   "metadata": {},
   "outputs": [],
   "source": [
    "#\n",
    "# 2nd step - inversion\n",
    "#\n",
    "\n",
    "# summation of all values\n",
    "sum = 0\n",
    "for i in range(len(L)):\n",
    "    sum += L[i]\n",
    "\n",
    "# mean of all values\n",
    "mean = sum / len(L)\n",
    "\n",
    "# reflection over mean\n",
    "for i in range(len(L)):\n",
    "    value = L[i]\n",
    "    new_value = mean - (L[i]-mean)\n",
    "    L[i] = new_value\n",
    "\n",
    "# visualize the values of elements in the list \n",
    "bar(labels,L)"
   ]
  },
  {
   "cell_type": "markdown",
   "metadata": {},
   "source": [
    "Iterate the game three more steps and visualize the values of elements in the list at the end."
   ]
  },
  {
   "cell_type": "code",
   "execution_count": null,
   "metadata": {},
   "outputs": [],
   "source": [
    "for i in range(3):\n",
    "    # flip the sign of the marked element\n",
    "    L[3] = -1 * L[3]\n",
    "    \n",
    "    # summation of all values\n",
    "    sum = 0\n",
    "    for i in range(len(L)):\n",
    "        sum += L[i]\n",
    "\n",
    "    # mean of all values\n",
    "    mean = sum / len(L)\n",
    "\n",
    "    # reflection over mean\n",
    "    for i in range(len(L)):\n",
    "        value = L[i]\n",
    "        new_value = mean - (L[i]-mean)\n",
    "        L[i] = new_value\n",
    "        \n",
    "# visualize the values of elements in the list \n",
    "bar(labels,L)        "
   ]
  },
  {
   "cell_type": "markdown",
   "metadata": {},
   "source": [
    "<a id=\"task2\"></a>\n",
    "<h3> Task 2</h3>\n",
    "\n",
    "We play this game for $ N = 16 $.\n",
    "\n",
    "Suppose that only the 11th element is marked.\n",
    "\n",
    "Play the game for 20 iterations, and print the value of the 11th element after each phase of every iteration."
   ]
  },
  {
   "cell_type": "markdown",
   "metadata": {},
   "source": [
    "<h3>Solution</h3>"
   ]
  },
  {
   "cell_type": "code",
   "execution_count": null,
   "metadata": {},
   "outputs": [],
   "source": [
    "from matplotlib.pyplot import bar\n",
    "\n",
    "labels = []\n",
    "L = []\n",
    "for i in range(16):\n",
    "    labels = labels + [i+1]\n",
    "    L  = L + [1]\n",
    "    \n",
    "for i in range(20):\n",
    "    print((i+1),\"th iteration:\")\n",
    "    # flip the sign of the marked element\n",
    "    L[10] = -1 * L[10]\n",
    "    \n",
    "    # print after query phase\n",
    "    print(L[10])\n",
    "    \n",
    "     # summation of all values\n",
    "    sum = 0\n",
    "    for i in range(len(L)):\n",
    "        sum += L[i]\n",
    "\n",
    "    # mean of all values\n",
    "    mean = sum / len(L)\n",
    "\n",
    "    # reflection over mean\n",
    "    for i in range(len(L)):\n",
    "        value = L[i]\n",
    "        new_value = mean - (L[i]-mean)\n",
    "        L[i] = new_value\n",
    "        \n",
    "    # print after inversion phase\n",
    "    print(L[10])\n",
    "    print()"
   ]
  },
  {
   "cell_type": "markdown",
   "metadata": {},
   "source": [
    "<a id=\"task3\"></a>\n",
    "<h3> Task 3 </h3>\n",
    "\n",
    "What are the initial values for the modifed game if $ N=8 $?"
   ]
  },
  {
   "cell_type": "markdown",
   "metadata": {},
   "source": [
    "<h3>Solution</h3>"
   ]
  },
  {
   "cell_type": "markdown",
   "metadata": {},
   "source": [
    "The list is $ [ a,a,a,a,a,a,a,a ] $ at the beginning.\n",
    "\n",
    "If it is a quantum state, then $ 8a^2 = 1 $ and $ a = \\frac{1}{2\\sqrt{2}} $."
   ]
  },
  {
   "cell_type": "markdown",
   "metadata": {},
   "source": [
    "<a id=\"task4\"></a>\n",
    "<h3>Task 4</h3>\n",
    "\n",
    "Iterate the modified game for $ N = 8 $ where the second element is the only marked element.\n",
    "\n",
    "Print the list after each phase.\n",
    "\n",
    "Check whether the length of list is 1 after each iteration."
   ]
  },
  {
   "cell_type": "markdown",
   "metadata": {},
   "source": [
    "<h3>Solution</h3>"
   ]
  },
  {
   "cell_type": "code",
   "execution_count": null,
   "metadata": {},
   "outputs": [],
   "source": [
    "N = 8\n",
    "marked = 1\n",
    "\n",
    "L = []\n",
    "\n",
    "for i in range(N):\n",
    "    L = L + [1/(N**0.5)]\n",
    "\n",
    "# print the elements of a given list with a given precision\n",
    "def print_list(L,precision):\n",
    "    output = \"\"\n",
    "    for i in range(len(L)):\n",
    "        output = output + str(round(L[i],precision))+\"  \"\n",
    "    print(output)\n",
    "\n",
    "print_list(L,3)\n",
    "\n",
    "for i in range(10):\n",
    "    print((i+1),\"th iteration:\")\n",
    "    # flip the sign of the marked element\n",
    "    L[marked] = -1 * L[marked]\n",
    "\n",
    "    # print after query phase\n",
    "    print_list(L,3)\n",
    "    \n",
    "     # summation of all values\n",
    "    sum = 0\n",
    "    for i in range(len(L)):\n",
    "        sum += L[i]\n",
    "\n",
    "    # mean of all values\n",
    "    mean = sum / len(L)\n",
    "    print(\"mean = \",round(mean,3))\n",
    "\n",
    "    # reflection over mean\n",
    "    for i in range(len(L)):\n",
    "        value = L[i]\n",
    "        new_value = mean - (L[i]-mean)\n",
    "        L[i] = new_value\n",
    "        \n",
    "    # calculate the length of the list\n",
    "    length_of_list = 0    \n",
    "    for j in range(len(L)):\n",
    "        length_of_list += L[j]*L[j]\n",
    "    \n",
    "    print(\"length of list is\",round(length_of_list,3))\n",
    "    # print after inversion phase\n",
    "    print_list(L,3)\n",
    "    print()    "
   ]
  },
  {
   "cell_type": "markdown",
   "metadata": {},
   "source": [
    "<a id=\"task5\"></a>\n",
    "<h3>Task 5</h3>\n",
    "\n",
    "Repeat Task 4 for $ N = 16 $ where the marked elements are the first, third and tenth elements."
   ]
  },
  {
   "cell_type": "markdown",
   "metadata": {},
   "source": [
    "<h3>Solution</h3>"
   ]
  },
  {
   "cell_type": "code",
   "execution_count": null,
   "metadata": {},
   "outputs": [],
   "source": [
    "N = 16\n",
    "marked_elements = [0,2,9]\n",
    "\n",
    "L = []\n",
    "\n",
    "for i in range(N):\n",
    "    L = L + [1/(N**0.5)]\n",
    "\n",
    "# print the elements of a given list with a given precision\n",
    "def print_list(L,precision):\n",
    "    output = \"\"\n",
    "    for i in range(len(L)):\n",
    "        output = output + str(round(L[i],precision))+\"  \"\n",
    "    print(output)\n",
    "\n",
    "print_list(L,3)\n",
    "\n",
    "for i in range(10):\n",
    "    print((i+1),\"th iteration:\")\n",
    "    # flip the sign of the marked element\n",
    "    for marked in marked_elements:\n",
    "        L[marked] = -1 * L[marked]\n",
    "\n",
    "    # print after query phase\n",
    "    print_list(L,3)\n",
    "    \n",
    "     # summation of all values\n",
    "    sum = 0\n",
    "    for i in range(len(L)):\n",
    "        sum += L[i]\n",
    "\n",
    "    # mean of all values\n",
    "    mean = sum / len(L)\n",
    "\n",
    "    # reflection over mean\n",
    "    for i in range(len(L)):\n",
    "        value = L[i]\n",
    "        new_value = mean - (L[i]-mean)\n",
    "        L[i] = new_value\n",
    "        \n",
    "    # calculate the length of the list\n",
    "    length_of_list = 0    \n",
    "    for j in range(len(L)):\n",
    "        length_of_list += L[j]*L[j]\n",
    "    \n",
    "    print(\"length of list is\",round(length_of_list,3))\n",
    "    # print after inversion phase\n",
    "    print_list(L,3)\n",
    "    print()    "
   ]
  },
  {
   "cell_type": "markdown",
   "metadata": {},
   "source": [
    "<a id=\"task6\"></a>\n",
    "<h3>Task 6</h3>\n",
    "\n",
    "Repeat Task 4 for $ N = 16 $ where the first 12 elements are marked."
   ]
  },
  {
   "cell_type": "markdown",
   "metadata": {},
   "source": [
    "<h3>Solution</h3>"
   ]
  },
  {
   "cell_type": "code",
   "execution_count": null,
   "metadata": {},
   "outputs": [],
   "source": [
    "N = 16\n",
    "marked_elements = range(12)\n",
    "\n",
    "L = []\n",
    "\n",
    "for i in range(N):\n",
    "    L = L + [1/(N**0.5)]\n",
    "\n",
    "# print the elements of a given list with a given precision\n",
    "def print_list(L,precision):\n",
    "    output = \"\"\n",
    "    for i in range(len(L)):\n",
    "        output = output + str(round(L[i],precision))+\"  \"\n",
    "    print(output)\n",
    "\n",
    "print_list(L,3)\n",
    "\n",
    "for i in range(10):\n",
    "    print((i+1),\"th iteration:\")\n",
    "    # flip the sign of the marked element\n",
    "    for marked in marked_elements:\n",
    "        L[marked] = -1 * L[marked]\n",
    "\n",
    "    # print after query phase\n",
    "    print_list(L,3)\n",
    "    \n",
    "     # summation of all values\n",
    "    sum = 0\n",
    "    for i in range(len(L)):\n",
    "        sum += L[i]\n",
    "\n",
    "    # mean of all values\n",
    "    mean = sum / len(L)\n",
    "\n",
    "    # reflection over mean\n",
    "    for i in range(len(L)):\n",
    "        value = L[i]\n",
    "        new_value = mean - (L[i]-mean)\n",
    "        L[i] = new_value\n",
    "        \n",
    "    # calculate the length of the list\n",
    "    length_of_list = 0    \n",
    "    for j in range(len(L)):\n",
    "        length_of_list += L[j]*L[j]\n",
    "    \n",
    "    print(\"length of list is\",round(length_of_list,3))\n",
    "    # print after inversion phase\n",
    "    print_list(L,3)\n",
    "    print()    "
   ]
  }
 ],
 "metadata": {
  "kernelspec": {
   "display_name": "Python 3",
   "language": "python",
   "name": "python3"
  },
  "language_info": {
   "codemirror_mode": {
    "name": "ipython",
    "version": 3
   },
   "file_extension": ".py",
   "mimetype": "text/x-python",
   "name": "python",
   "nbconvert_exporter": "python",
   "pygments_lexer": "ipython3",
   "version": "3.7.3"
  }
 },
 "nbformat": 4,
 "nbformat_minor": 4
}

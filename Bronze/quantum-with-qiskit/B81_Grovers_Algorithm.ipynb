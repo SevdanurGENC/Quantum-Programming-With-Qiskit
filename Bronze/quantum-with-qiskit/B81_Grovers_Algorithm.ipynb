{
 "cells": [
  {
   "cell_type": "markdown",
   "metadata": {},
   "source": [
    "<a href=\"https://qworld.net\" target=\"_blank\" align=\"left\"><img src=\"../qworld/images/header.jpg\"  align=\"left\"></a>\n",
    "$ \\newcommand{\\bra}[1]{\\langle #1|} $\n",
    "$ \\newcommand{\\ket}[1]{|#1\\rangle} $\n",
    "$ \\newcommand{\\braket}[2]{\\langle #1|#2\\rangle} $\n",
    "$ \\newcommand{\\dot}[2]{ #1 \\cdot #2} $\n",
    "$ \\newcommand{\\biginner}[2]{\\left\\langle #1,#2\\right\\rangle} $\n",
    "$ \\newcommand{\\mymatrix}[2]{\\left( \\begin{array}{#1} #2\\end{array} \\right)} $\n",
    "$ \\newcommand{\\myvector}[1]{\\mymatrix{c}{#1}} $\n",
    "$ \\newcommand{\\myrvector}[1]{\\mymatrix{r}{#1}} $\n",
    "$ \\newcommand{\\mypar}[1]{\\left( #1 \\right)} $\n",
    "$ \\newcommand{\\mybigpar}[1]{ \\Big( #1 \\Big)} $\n",
    "$ \\newcommand{\\sqrttwo}{\\frac{1}{\\sqrt{2}}} $\n",
    "$ \\newcommand{\\dsqrttwo}{\\dfrac{1}{\\sqrt{2}}} $\n",
    "$ \\newcommand{\\onehalf}{\\frac{1}{2}} $\n",
    "$ \\newcommand{\\donehalf}{\\dfrac{1}{2}} $\n",
    "$ \\newcommand{\\hadamard}{ \\mymatrix{rr}{ \\sqrttwo & \\sqrttwo \\\\ \\sqrttwo & -\\sqrttwo }} $\n",
    "$ \\newcommand{\\vzero}{\\myvector{1\\\\0}} $\n",
    "$ \\newcommand{\\vone}{\\myvector{0\\\\1}} $\n",
    "$ \\newcommand{\\stateplus}{\\myvector{ \\sqrttwo \\\\  \\sqrttwo } } $\n",
    "$ \\newcommand{\\stateminus}{ \\myrvector{ \\sqrttwo \\\\ -\\sqrttwo } } $\n",
    "$ \\newcommand{\\myarray}[2]{ \\begin{array}{#1}#2\\end{array}} $\n",
    "$ \\newcommand{\\X}{ \\mymatrix{cc}{0 & 1 \\\\ 1 & 0}  } $\n",
    "$ \\newcommand{\\I}{ \\mymatrix{rr}{1 & 0 \\\\ 0 & 1}  } $\n",
    "$ \\newcommand{\\Z}{ \\mymatrix{rr}{1 & 0 \\\\ 0 & -1}  } $\n",
    "$ \\newcommand{\\Htwo}{ \\mymatrix{rrrr}{ \\frac{1}{2} & \\frac{1}{2} & \\frac{1}{2} & \\frac{1}{2} \\\\ \\frac{1}{2} & -\\frac{1}{2} & \\frac{1}{2} & -\\frac{1}{2} \\\\ \\frac{1}{2} & \\frac{1}{2} & -\\frac{1}{2} & -\\frac{1}{2} \\\\ \\frac{1}{2} & -\\frac{1}{2} & -\\frac{1}{2} & \\frac{1}{2} } } $\n",
    "$ \\newcommand{\\CNOT}{ \\mymatrix{cccc}{1 & 0 & 0 & 0 \\\\ 0 & 1 & 0 & 0 \\\\ 0 & 0 & 0 & 1 \\\\ 0 & 0 & 1 & 0} } $\n",
    "$ \\newcommand{\\norm}[1]{ \\left\\lVert #1 \\right\\rVert } $\n",
    "$ \\newcommand{\\pstate}[1]{ \\lceil \\mspace{-1mu} #1 \\mspace{-1.5mu} \\rfloor } $\n",
    "$ \\newcommand{\\greenbit}[1] {\\mathbf{{\\color{green}#1}}} $\n",
    "$ \\newcommand{\\bluebit}[1] {\\mathbf{{\\color{blue}#1}}} $\n",
    "$ \\newcommand{\\redbit}[1] {\\mathbf{{\\color{red}#1}}} $\n",
    "$ \\newcommand{\\brownbit}[1] {\\mathbf{{\\color{brown}#1}}} $\n",
    "$ \\newcommand{\\blackbit}[1] {\\mathbf{{\\color{black}#1}}} $"
   ]
  },
  {
   "cell_type": "markdown",
   "metadata": {},
   "source": [
    "<h2> Grover's Quantum Search Algorithm </h2>"
   ]
  },
  {
   "cell_type": "markdown",
   "metadata": {},
   "source": [
    "Let's assume that there are $N=2^n$ elements in a list $L$, and one of the elements is marked. \n",
    "\n",
    "Suppose that there exists a function $f$ whose domain is $L$ with the following properties:\n",
    "\n",
    "\\begin{align*}\n",
    "f(x)&=1 &\\mbox{ if $x$ is marked}\\\\\n",
    "f(x)&=0 &\\mbox{ otherwise}\n",
    "\\end{align*}\n",
    "\n",
    "Grover's algorithm does not actually search a list of elements, but given that there exists a function $f$ with the given properties, it finds the element $x$ such that $f(x)=1$. Do you see how does this correspond to finding the marked element?"
   ]
  },
  {
   "cell_type": "markdown",
   "metadata": {},
   "source": [
    "We access the list by querying $f$, which will be called the <font color=\"blue\">oracle</font>.\n",
    "\n",
    "Normally, in the worst case you would have to query $f$ for all possible inputs to find $x$ satisfying $f(x)=1$ which has <font color=\"blue\"> query complexity </font>$O(N)$. \n",
    "\n",
    "Grover's algorithm is able to perform the same task only with $O(\\sqrt{N})$ queries.\n",
    "\n",
    "(<i>$O(N)$ is Big O notation. Please check the definition if you are seeing it for the first time.</i>)\n",
    "\n",
    "**Remark:** The algorithm works if there are multiple marked elements but we assume that only 1 element is marked for simplicity."
   ]
  },
  {
   "cell_type": "markdown",
   "metadata": {},
   "source": [
    "<h3> Example </h3>"
   ]
  },
  {
   "cell_type": "markdown",
   "metadata": {},
   "source": [
    "Grover's algorithm is not restricted to a list. You can apply it to any search space as long as you can construct such a function $f$. Consider the picture below. A, B, C and D are the cities and the numbers represent the distance between them."
   ]
  },
  {
   "cell_type": "markdown",
   "metadata": {},
   "source": [
    "<img src=\"./images/tsp.png\" width=\"300\">"
   ]
  },
  {
   "cell_type": "markdown",
   "metadata": {},
   "source": [
    "**Question:** <i>Starting in A, does there exist a path of distance < 900 which visits all cities exactly once and returns to A?</i>\n",
    "\n",
    "This is known as the decision version of Traveling Salesman Problem. In this example the search space consists of all possible routes such as ABDCA, ACBDA, ABCDA etc. and our aim is to find the route whose total distance is < 900.\n",
    "\n",
    "Check ABCDA. The total distance is 800 which satisfies the condition. If you want to design $f$ for this problem, $f(\\text{ABCDA})=1$ and $f(x)=0$ for all other routes. \n",
    "\n",
    "**How can you construct such an $f$ ?** \n",
    "\n",
    "Add the distances between each pair of cities and output 1 if the total distance is less than 900 and 0 otherwise. Note that we don't need to know anything about the solution to implement $f$.\n",
    "\n",
    "Of course you should be able to design such an $f$ in the quantum setting if you want to apply Grover's Search and it is not always an easy task. \n",
    "\n",
    "**How does Grover's Search help in this problem?** \n",
    "\n",
    "Checking all routes one by one is a long procedure. But given a route, you can easily check if the total distance satisfies the condition. Instead of checking all routes one by one and querying $f$ for each route, it is enough to make square root queries if you use Grover's Search.\n",
    "\n",
    "Check this [link](https://github.com/quantum-challenge/2019/blob/master/problems/final/Final_en.ipynb) to see another example."
   ]
  },
  {
   "cell_type": "markdown",
   "metadata": {},
   "source": [
    "<h3>Initialization</h3>\n",
    "\n",
    "We will continue our discussion by calling the search space as the list.\n",
    "\n",
    "If there are $ N $ elements in the list, we can use $ \\log(N) $ qubits. (Assume that $N$ is a power of 2.) \n",
    "\n",
    "Each basis state, i.e., $ \\ket{0 \\cdots 0}, \\ldots, \\ket{1 \\cdots 1} $, corresponds to an index of the list.\n",
    "\n",
    "At the beginning, Hadamard operator is applied to each qubit. Thus, the amplitude of each basis state is set to $ \\frac{1}{\\sqrt{N}} $.\n",
    "\n",
    "We can interpret this as all indices start the game with the same amplitude."
   ]
  },
  {
   "cell_type": "markdown",
   "metadata": {},
   "source": [
    "<h3> Phases </h3>\n",
    "\n",
    "Each iteration consists of two phases: the query phase and the inversion phase\n",
    "\n",
    "\n",
    "<b>In the query phase</b>, sign of the amplitude of the index corresponding to the marked element is flipped after querying the oracle.\n",
    "\n",
    "<b>In the inversion phase</b>, for each index $i$, the new amplitue is calculated as $ mean - (x_i - mean) = 2mean -x_i $ where $x_i$ is the amplitude of the index $i$ and $mean$ is the average of the amplitudes."
   ]
  },
  {
   "cell_type": "markdown",
   "metadata": {},
   "source": [
    "<h3>Tracing the algorithm</h2>"
   ]
  },
  {
   "cell_type": "markdown",
   "metadata": {},
   "source": [
    "Note that the modifed game in the previous notebook is the main part of Grover's quantum search algorithm. We have traced how the amplitudes change as the query and inversion phases are applied. \n",
    "\n",
    "**Note that it was only for illustration purpose and in general we don't know which element is marked. We will see how to flip the amplitude of the marked element in the implementation notebook.**"
   ]
  },
  {
   "cell_type": "markdown",
   "metadata": {},
   "source": [
    "Let $N=2^n$. We begin with a register holding $n$ qubits, apply Hadamard to each qubit and obtain the following state.\n",
    "\n",
    "\n",
    "$$\\ket{u}=\\dfrac{1}{\\sqrt{N}}\\ket{0\\dots0} + \\dots + \\dfrac{1}{\\sqrt{N}} \\ket{1 \\dots 1} = \\myvector{ \\dfrac{1}{\\sqrt{N}} \\\\\\vdots \\\\ \\dfrac{1}{\\sqrt{N}} }$$"
   ]
  },
  {
   "cell_type": "markdown",
   "metadata": {},
   "source": [
    "$\\ket{u}$ is in equal superposition of all basis states at the beginning.\n",
    "\n",
    "<img src=\"../images/initial.png\">\n",
    "\n",
    "<h4>Query phase</h4>\n",
    "\n",
    "In the query phase, the sign of the amplitude of the marked element will be flipped by the oracle.\n",
    "\n",
    "<img src=\"../images/oracle.png\">"
   ]
  },
  {
   "cell_type": "markdown",
   "metadata": {},
   "source": [
    "<h4>Inversion phase</h4>\n",
    "\n",
    "In the inversion phase, the amplitudes of the states are inverted about the average.\n",
    "\n",
    "<img src=\"../images/inversion.png\">"
   ]
  },
  {
   "cell_type": "markdown",
   "metadata": {},
   "source": [
    "<h3>Operators corresponding to query and inversion phases</h3>"
   ]
  },
  {
   "cell_type": "markdown",
   "metadata": {},
   "source": [
    "Do you think that query and inversion operators are linear? More specifically, can we represent them in the form of a matrix?\n",
    "\n",
    "**Query operator**\n",
    "\n",
    "The answer for the query operator is easy as it only changes the sign of marked elements, and so its matrix form is very similar to an identity matrix having -1 in one of its diagoal entries."
   ]
  },
  {
   "cell_type": "markdown",
   "metadata": {},
   "source": [
    "Let $N=4$ and suppose that the second element $\\ket{01}$ is marked. Then the matrix corresponding to query operator looks like the following:"
   ]
  },
  {
   "cell_type": "markdown",
   "metadata": {},
   "source": [
    "$$ O=\\mymatrix{ccc}{\n",
    "    1& 0  & 0 & 0 \\\\\n",
    "    0& -1  & 0 & 0 \\\\\n",
    "     0  & 0& 1 & 0 \\\\ \n",
    "    0  & 0& 0 & 1 \\\\ \n",
    "    } \n",
    "$$"
   ]
  },
  {
   "cell_type": "markdown",
   "metadata": {},
   "source": [
    "Note that the unitary matrix in the query phase depends on the input."
   ]
  },
  {
   "cell_type": "markdown",
   "metadata": {},
   "source": [
    "<h3> Task 1</h3>\n",
    "\n",
    "Let $\\ket{v}$ be the vector representing the state corresponding to the marked element.\n",
    "\n",
    "Convince yourself that $ O =I - 2\\ket{v}\\bra{v}$."
   ]
  },
  {
   "cell_type": "markdown",
   "metadata": {},
   "source": [
    "<a href=\"B81_Grovers_Algorithm_Solutions.ipynb#task1\">click for our solution</a>"
   ]
  },
  {
   "cell_type": "markdown",
   "metadata": {},
   "source": [
    "<h4>Inversion Operator</h4>"
   ]
  },
  {
   "cell_type": "markdown",
   "metadata": {},
   "source": [
    "Let $N=4$ and let us find the matrix for calculating the mean of the amplitudes. "
   ]
  },
  {
   "cell_type": "markdown",
   "metadata": {},
   "source": [
    "The mean of a column vector of size $ N $ can be calculated by multiplying it with the following row vector from the left:\n",
    "\n",
    "$$  \\myvector{ \\frac{1}{N} ~~ \\frac{1}{N} ~~ \\cdots ~~ \\frac{1}{N}} . $$\n",
    "\n",
    "\n",
    "When considering all elements in the list, we work with a matrix. \n",
    "\n",
    "$$ A=\\mymatrix{ccc}{\n",
    "    \\frac{1}{N}  & \\cdots & \\frac{1}{N} \\\\ \n",
    "    \\vdots & \\ddots & \\vdots \\\\\n",
    "    \\frac{1}{N}  & \\cdots & \\frac{1}{N} \\\\ \n",
    "    } \n",
    "$$"
   ]
  },
  {
   "cell_type": "markdown",
   "metadata": {},
   "source": [
    "<h3> Task 2</h3>\n",
    "\n",
    "Let us denote the operator which performs inversion about the mean by $D$. That is, $D \\myvector{x_1 \\\\ \\vdots \\\\ x_N} = \\myvector{ 2m-x_1 \\\\ \\vdots \\\\ 2m-x_N } $, where $ m = \\dfrac{ \\sum_{i=1}^N x_i } { N} $.  \n",
    "\n",
    "Convince yourself that $ D =2A-I$. "
   ]
  },
  {
   "cell_type": "markdown",
   "metadata": {},
   "source": [
    "<a href=\"B81_Grovers_Algorithm_Solutions.ipynb#task2\">click for our solution</a>"
   ]
  },
  {
   "cell_type": "markdown",
   "metadata": {},
   "source": [
    "<h3> Task 3</h3>\n",
    "\n",
    "Let $ A =  \\mymatrix{ccc}{\n",
    "    \\frac{1}{N}  & \\cdots & \\frac{1}{N} \\\\ \n",
    "    \\vdots & \\ddots & \\vdots \\\\\n",
    "    \\frac{1}{N}  & \\cdots & \\frac{1}{N} \\\\ \n",
    "    }  $. \n",
    "Convince yourself that $ A^2 = A $ and $ D^T = D $.\n",
    "\n",
    "Since $ D = 2A - I $, convince yourself that $ D $ is unitary by showing that $ D^T \\cdot D = I $, i.e., $ (2A-I)(2A-I) = I $."
   ]
  },
  {
   "cell_type": "markdown",
   "metadata": {},
   "source": [
    "<a href=\"B81_Grovers_Algorithm_Solutions.ipynb#task3\">click for our solution</a>"
   ]
  },
  {
   "cell_type": "markdown",
   "metadata": {},
   "source": [
    "<h3> Task 4</h3>\n",
    "\n",
    "Let $\\ket{u}=\\myvector{\\frac{1}{\\sqrt{N}} \\\\ \\vdots \\\\ \\frac{1}{\\sqrt{N}}}$ be the equal superposition state.\n",
    "\n",
    "Check that $ D =2\\ket{u}\\bra{u}-I$."
   ]
  },
  {
   "cell_type": "markdown",
   "metadata": {},
   "source": [
    "<a href=\"B81_Grovers_Algorithm_Solutions.ipynb#task4\">click for our solution</a>"
   ]
  },
  {
   "cell_type": "markdown",
   "metadata": {},
   "source": [
    "Note that the unitary operator in the inversion phase does not depend on the input."
   ]
  },
  {
   "cell_type": "markdown",
   "metadata": {},
   "source": [
    "<h3> Amplitude amplification </h3>\n",
    "\n",
    "At each iteration, the algorithm increases the amplitude of the marked state and decreases the amplitudes of the unmarked ones. \n",
    "\n",
    "This is process is called the <font color=\"blue\">amplitude amplification</font>.\n",
    "\n",
    "We reach the first peak such that the probability of observing a marked element takes its maximum value.\n",
    "\n",
    "If we make a measurement at this point, we expect to observe the marked element with high probability.\n",
    "\n",
    "After passing this point, the amplitudes of the marked elements start to decrease by approaching to 0.\n",
    "\n",
    "We will analyze the number of iterations in more detail in the next notebook."
   ]
  }
 ],
 "metadata": {
  "kernelspec": {
   "display_name": "Python 3",
   "language": "python",
   "name": "python3"
  },
  "language_info": {
   "codemirror_mode": {
    "name": "ipython",
    "version": 3
   },
   "file_extension": ".py",
   "mimetype": "text/x-python",
   "name": "python",
   "nbconvert_exporter": "python",
   "pygments_lexer": "ipython3",
   "version": "3.7.3"
  }
 },
 "nbformat": 4,
 "nbformat_minor": 4
}
